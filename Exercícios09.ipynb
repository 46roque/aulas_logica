{
 "cells": [
  {
   "cell_type": "markdown",
   "metadata": {},
   "source": [
    "1. Crie uma função sem parametros q exiba uma mensagem com 50*, e uma mensagem de boas vindas, chame essa função por 4 vzs"
   ]
  },
  {
   "cell_type": "code",
   "execution_count": 4,
   "metadata": {},
   "outputs": [
    {
     "name": "stdout",
     "output_type": "stream",
     "text": [
      "--------------------------------------------------\n",
      "Boas vindas\n",
      "--------------------------------------------------\n"
     ]
    }
   ],
   "source": [
    "def linha():\n",
    "    print('-' * 50)\n",
    "def aoba():\n",
    "    linha()\n",
    "    print ('Boas vindas')\n",
    "    linha()\n",
    "\n",
    "aoba()"
   ]
  },
  {
   "cell_type": "markdown",
   "metadata": {},
   "source": [
    "2. Crie uma função que contenha uma lista com as cores primárias e exiba cada cor em uma\n",
    "linha"
   ]
  },
  {
   "cell_type": "code",
   "execution_count": 5,
   "metadata": {},
   "outputs": [
    {
     "name": "stdout",
     "output_type": "stream",
     "text": [
      "amarelo\n",
      "azul\n",
      "vermelho\n"
     ]
    }
   ],
   "source": [
    "def Funcao() :\n",
    "    CoresPrimarias = ['amarelo', 'azul', 'vermelho']\n",
    "    for CoresPrimarias in CoresPrimarias :\n",
    "        print(CoresPrimarias)\n",
    "\n",
    "Funcao()\n"
   ]
  },
  {
   "cell_type": "markdown",
   "metadata": {},
   "source": [
    "3. Crie uma função que recebe um número como parâmetro e exiba a tabuada até o 10, chame\n",
    "essa função por 3 vezes enviando parâmetros diferentes"
   ]
  },
  {
   "cell_type": "code",
   "execution_count": 7,
   "metadata": {},
   "outputs": [
    {
     "name": "stdout",
     "output_type": "stream",
     "text": [
      "7 x 0 = 0\n",
      "7 x 1 = 7\n",
      "7 x 2 = 14\n",
      "7 x 3 = 21\n",
      "7 x 4 = 28\n",
      "7 x 5 = 35\n",
      "7 x 6 = 42\n",
      "7 x 7 = 49\n",
      "7 x 8 = 56\n",
      "7 x 9 = 63\n",
      "7 x 10 = 70\n",
      "8 x 0 = 0\n",
      "8 x 1 = 8\n",
      "8 x 2 = 16\n",
      "8 x 3 = 24\n",
      "8 x 4 = 32\n",
      "8 x 5 = 40\n",
      "8 x 6 = 48\n",
      "8 x 7 = 56\n",
      "8 x 8 = 64\n",
      "8 x 9 = 72\n",
      "8 x 10 = 80\n",
      "9 x 0 = 0\n",
      "9 x 1 = 9\n",
      "9 x 2 = 18\n",
      "9 x 3 = 27\n",
      "9 x 4 = 36\n",
      "9 x 5 = 45\n",
      "9 x 6 = 54\n",
      "9 x 7 = 63\n",
      "9 x 8 = 72\n",
      "9 x 9 = 81\n",
      "9 x 10 = 90\n"
     ]
    }
   ],
   "source": [
    "def tabuada(nmr):\n",
    "    for x in range (11):\n",
    "        print(f'{nmr} x {x} = {nmr * x}')\n",
    "\n",
    "tabuada(7)\n",
    "\n",
    "tabuada(8)\n",
    "\n",
    "tabuada(9)"
   ]
  },
  {
   "cell_type": "markdown",
   "metadata": {},
   "source": [
    "4. Crie uma função que receba 2 nmrs e o operador matemático para realizar a operação (Ex. envio os parâmetros 2 e 5 *, fazer a multiplicação), tratar as operações +-*/**"
   ]
  },
  {
   "cell_type": "code",
   "execution_count": 12,
   "metadata": {},
   "outputs": [
    {
     "name": "stdout",
     "output_type": "stream",
     "text": [
      "33\n",
      "65\n",
      "7020\n",
      "39.0\n"
     ]
    }
   ],
   "source": [
    "def nmrs (n1 , n2, op):\n",
    "    if op == '+' :\n",
    "        res = n1 + n2 \n",
    "    elif op == '-' :\n",
    "        res = n1 - n2\n",
    "    elif op == '*' :\n",
    "        res = n1 * n2\n",
    "    elif op == '/' :\n",
    "        res = n1 / n2\n",
    "    elif op == '**' :\n",
    "        res = n1 ** n2\n",
    "    print(res)\n",
    "\n",
    "nmrs(28,5,'+')\n",
    "nmrs(67,2,'-')\n",
    "nmrs(90,78,'*')\n",
    "nmrs(234,6,'/')"
   ]
  },
  {
   "cell_type": "markdown",
   "metadata": {},
   "source": [
    "5. Crie uma função que gere uma senha aleatória, deve receber como parâmetro q quantidade de caracteres q tera a senha, crie uma lista com todos os caracteres disponiveis para a senha e com o random sorteie a qual de dígitos tera a senha"
   ]
  },
  {
   "cell_type": "code",
   "execution_count": 17,
   "metadata": {},
   "outputs": [
    {
     "name": "stdout",
     "output_type": "stream",
     "text": [
      "0WMC05G8\n"
     ]
    }
   ],
   "source": [
    "import random\n",
    "\n",
    "def SenhaAleatoria(tamanho):\n",
    "    listaCaracteres = 'JCBWUHFNCOSAKDFOKWJIHFVIWVFYWNDCKWNGLE,PGOVKMDKLNBVUBEVDOKMELKGOJGU4INYTL4EMGUG7UWIE4IT6876489T5938520958'\n",
    "    Senha = ''\n",
    "    for i in range (tamanho):\n",
    "        Senha = Senha + random.choice(listaCaracteres)\n",
    "    return(Senha)\n",
    "senhaTemp = SenhaAleatoria(8)\n",
    "print(senhaTemp)\n"
   ]
  }
 ],
 "metadata": {
  "kernelspec": {
   "display_name": "Python 3",
   "language": "python",
   "name": "python3"
  },
  "language_info": {
   "codemirror_mode": {
    "name": "ipython",
    "version": 3
   },
   "file_extension": ".py",
   "mimetype": "text/x-python",
   "name": "python",
   "nbconvert_exporter": "python",
   "pygments_lexer": "ipython3",
   "version": "3.12.3"
  }
 },
 "nbformat": 4,
 "nbformat_minor": 2
}
