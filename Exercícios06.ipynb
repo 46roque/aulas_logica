{
 "cells": [
  {
   "cell_type": "markdown",
   "metadata": {},
   "source": [
    "1. Utilizando o for, exiba todos os números ímpares, de 1 a 40"
   ]
  },
  {
   "cell_type": "code",
   "execution_count": 1,
   "metadata": {},
   "outputs": [
    {
     "name": "stdout",
     "output_type": "stream",
     "text": [
      "1\n",
      "3\n",
      "5\n",
      "7\n",
      "9\n",
      "11\n",
      "13\n",
      "15\n",
      "17\n",
      "19\n",
      "21\n",
      "23\n",
      "25\n",
      "27\n",
      "29\n",
      "31\n",
      "33\n",
      "35\n",
      "37\n",
      "39\n"
     ]
    }
   ],
   "source": [
    "for x in range(1, 40 , 2) :\n",
    "    print(x)"
   ]
  },
  {
   "cell_type": "markdown",
   "metadata": {},
   "source": [
    "2. Gere os 6 números do sorteio da mega-sena de forma aleatória."
   ]
  },
  {
   "cell_type": "code",
   "execution_count": 7,
   "metadata": {},
   "outputs": [
    {
     "name": "stdout",
     "output_type": "stream",
     "text": [
      "60\n",
      "10\n",
      "50\n",
      "1\n",
      "56\n",
      "34\n"
     ]
    }
   ],
   "source": [
    "import random\n",
    "for x in range(1, 7) :\n",
    "    nmr = random.randint(1,60)\n",
    "    print(nmr)\n",
    "\n"
   ]
  },
  {
   "cell_type": "markdown",
   "metadata": {},
   "source": [
    "3. Receba 5 números e verifique a soma e a quantidade de todos os pares e ímpares digitados"
   ]
  },
  {
   "cell_type": "code",
   "execution_count": null,
   "metadata": {},
   "outputs": [],
   "source": [
    "soma=0\n",
    "quant2=0\n",
    "quant3=0\n",
    "for nmr in range (5): \n",
    "    nmr = int(input('Digite um nmr'))\n",
    "    soma = soma + nmr\n",
    "    if nmr % 2 == 0 :\n",
    "        par = par + 1 \n",
    "    else :\n",
    "        ímpar = ímpar + 1 \n",
    "        soma= soma + nmr\n"
   ]
  },
  {
   "cell_type": "markdown",
   "metadata": {},
   "source": [
    "4. Solicite os parâmetros de início, fim e passo para o laço de repetição usando a função range()\n",
    "e exiba o valor atual da variável de controle a cada iteração. range( x , y , z )"
   ]
  },
  {
   "cell_type": "code",
   "execution_count": 2,
   "metadata": {},
   "outputs": [
    {
     "name": "stdout",
     "output_type": "stream",
     "text": [
      "5\n",
      "7\n",
      "9\n"
     ]
    }
   ],
   "source": [
    "inicio = int(input('Digite o valor inicial'))\n",
    "fim = int(input('Digite o valor final'))\n",
    "passo = int(input('Digite o passo'))\n",
    "for x in range(inicio, fim, passo):\n",
    "    print(x)"
   ]
  },
  {
   "cell_type": "markdown",
   "metadata": {},
   "source": [
    "5. Ler do teclado a idade e o sexo de 10 pessoas, calcule e imprima:"
   ]
  },
  {
   "cell_type": "code",
   "execution_count": 5,
   "metadata": {},
   "outputs": [
    {
     "ename": "ZeroDivisionError",
     "evalue": "division by zero",
     "output_type": "error",
     "traceback": [
      "\u001b[1;31m---------------------------------------------------------------------------\u001b[0m",
      "\u001b[1;31mZeroDivisionError\u001b[0m                         Traceback (most recent call last)",
      "Cell \u001b[1;32mIn[5], line 14\u001b[0m\n\u001b[0;32m     12\u001b[0m         soma_homens \u001b[38;5;241m=\u001b[39m soma_homens \u001b[38;5;241m+\u001b[39m idade\n\u001b[0;32m     13\u001b[0m         qntd_homens \u001b[38;5;241m=\u001b[39m qntd_homens \u001b[38;5;241m+\u001b[39m \u001b[38;5;241m1\u001b[39m\n\u001b[1;32m---> 14\u001b[0m \u001b[38;5;28mprint\u001b[39m(\u001b[38;5;124mf\u001b[39m\u001b[38;5;124m'\u001b[39m\u001b[38;5;124mmédia das mulheres \u001b[39m\u001b[38;5;132;01m{\u001b[39;00m\u001b[43msoma_mulheres\u001b[49m\u001b[38;5;250;43m \u001b[39;49m\u001b[38;5;241;43m/\u001b[39;49m\u001b[38;5;250;43m \u001b[39;49m\u001b[43mqntd_mulheres\u001b[49m\u001b[38;5;132;01m}\u001b[39;00m\u001b[38;5;124m'\u001b[39m)\n\u001b[0;32m     15\u001b[0m \u001b[38;5;28mprint\u001b[39m(\u001b[38;5;124mf\u001b[39m\u001b[38;5;124m'\u001b[39m\u001b[38;5;124mmédia dos homens \u001b[39m\u001b[38;5;132;01m{\u001b[39;00msoma_homens\u001b[38;5;250m \u001b[39m\u001b[38;5;241m/\u001b[39m\u001b[38;5;250m \u001b[39mqntd_homens\u001b[38;5;132;01m}\u001b[39;00m\u001b[38;5;124m'\u001b[39m)\n\u001b[0;32m     16\u001b[0m \u001b[38;5;28mprint\u001b[39m(\u001b[38;5;124mf\u001b[39m\u001b[38;5;124m'\u001b[39m\u001b[38;5;124mmédia do grupo (\u001b[39m\u001b[38;5;132;01m{\u001b[39;00msoma_homens\u001b[38;5;250m \u001b[39m\u001b[38;5;241m+\u001b[39m\u001b[38;5;250m \u001b[39msoma_mulheres\u001b[38;5;132;01m}\u001b[39;00m\u001b[38;5;132;01m{\u001b[39;00mqntd_homenstd_homens\u001b[38;5;250m \u001b[39m\u001b[38;5;241m+\u001b[39m\u001b[38;5;250m \u001b[39mqntd_mulheres\u001b[38;5;132;01m}\u001b[39;00m\u001b[38;5;124m)\u001b[39m\u001b[38;5;124m'\u001b[39m)\n",
      "\u001b[1;31mZeroDivisionError\u001b[0m: division by zero"
     ]
    }
   ],
   "source": [
    "soma_mulheres = 0\n",
    "soma_homens = 0\n",
    "qntd_mulheres = 0\n",
    "qntd_homens = 0\n",
    "for x in range(5):\n",
    "    idade = int(input('Digite a idade'))\n",
    "    sexo = input('Digite o sexo: [F/M]')\n",
    "    if sexo == 'F':\n",
    "        soma_mulheres = soma_mulheres + idade\n",
    "        qntd_mulheres = qntd_mulheres + 1\n",
    "    else:\n",
    "        soma_homens = soma_homens + idade\n",
    "        qntd_homens = qntd_homens + 1\n",
    "print(f'média das mulheres {soma_mulheres / qntd_mulheres}')\n",
    "print(f'média dos homens {soma_homens / qntd_homens}')\n",
    "print(f'média do grupo ({soma_homens + soma_mulheres}{qntd_homenstd_homens + qntd_mulheres})')"
   ]
  },
  {
   "cell_type": "code",
   "execution_count": 7,
   "metadata": {},
   "outputs": [
    {
     "name": "stdout",
     "output_type": "stream",
     "text": [
      "euqor\n"
     ]
    }
   ],
   "source": [
    "palavra = input('Digite uma palavra:')\n",
    "nova_palavra = ''\n",
    "for letra in palavra :\n",
    "    nova_palavra = letra + nova_palavra \n",
    "print(nova_palavra)"
   ]
  }
 ],
 "metadata": {
  "kernelspec": {
   "display_name": "Python 3",
   "language": "python",
   "name": "python3"
  },
  "language_info": {
   "codemirror_mode": {
    "name": "ipython",
    "version": 3
   },
   "file_extension": ".py",
   "mimetype": "text/x-python",
   "name": "python",
   "nbconvert_exporter": "python",
   "pygments_lexer": "ipython3",
   "version": "3.12.2"
  }
 },
 "nbformat": 4,
 "nbformat_minor": 2
}
