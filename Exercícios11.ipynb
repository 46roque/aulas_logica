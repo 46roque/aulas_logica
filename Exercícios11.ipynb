{
 "cells": [
  {
   "cell_type": "markdown",
   "metadata": {},
   "source": [
    "1. Faça um Programa que mostre a mensagem \"Seja Bem-Vindo ao SESI 😎\" na tela."
   ]
  },
  {
   "cell_type": "code",
   "execution_count": 1,
   "metadata": {},
   "outputs": [
    {
     "name": "stdout",
     "output_type": "stream",
     "text": [
      "Seja bem-vindo ao SESI 😎\n"
     ]
    }
   ],
   "source": [
    "print('Seja bem-vindo ao SESI 😎')"
   ]
  },
  {
   "cell_type": "markdown",
   "metadata": {},
   "source": [
    "2. Faça um Programa que peça um número e então mostre a mensagem “O número\n",
    "informado foi [número]”."
   ]
  },
  {
   "cell_type": "code",
   "execution_count": 2,
   "metadata": {},
   "outputs": [
    {
     "name": "stdout",
     "output_type": "stream",
     "text": [
      "7\n"
     ]
    }
   ],
   "source": [
    "print(input('Fala um nmr ai mlkt😃'))"
   ]
  },
  {
   "cell_type": "markdown",
   "metadata": {},
   "source": [
    "3. Faça um programa que receba 2 números inteiros e exiba a divisão entre eles"
   ]
  },
  {
   "cell_type": "code",
   "execution_count": 6,
   "metadata": {},
   "outputs": [
    {
     "name": "stdout",
     "output_type": "stream",
     "text": [
      "5.0\n"
     ]
    }
   ],
   "source": [
    "n1 = int(input('Lança um nmr pro pai mlkt'))\n",
    "n2 = int(input('Lança outro nmr ae'))\n",
    "resultado = (n1 / n2)\n",
    "print (resultado)"
   ]
  },
  {
   "cell_type": "markdown",
   "metadata": {},
   "source": [
    "4. Faça um Programa que pergunte quanto você ganha por hora e o número de horas trabalhadas no mês. Calcule e mostre o total do seu salário no referido mês."
   ]
  },
  {
   "cell_type": "code",
   "execution_count": 7,
   "metadata": {},
   "outputs": [
    {
     "name": "stdout",
     "output_type": "stream",
     "text": [
      "3000.0\n"
     ]
    }
   ],
   "source": [
    "quanto_ganhas = float(input('Quantos pataco tu recebe por hr no mês?'))\n",
    "horas_trabalhadas = 200\n",
    "salario = quanto_ganhas * horas_trabalhadas\n",
    "print(salario)"
   ]
  },
  {
   "cell_type": "markdown",
   "metadata": {},
   "source": [
    "5. Faça um Programa que verifique se uma letra digitada é \"F\" ou \"M\". Conforme a letra\n",
    "escrever: F - Feminino, M - Masculino, Sexo Inválido."
   ]
  },
  {
   "cell_type": "code",
   "execution_count": 8,
   "metadata": {},
   "outputs": [
    {
     "name": "stdout",
     "output_type": "stream",
     "text": [
      "Homi\n"
     ]
    }
   ],
   "source": [
    "genero = input('Qual seu sexo?')\n",
    "if genero == 'M':\n",
    "    print('Homi')\n",
    "elif genero == 'F':\n",
    "    print('Muié')\n",
    "else :\n",
    "    print('Ta inventando moda 🤣🤣')\n",
    "    "
   ]
  },
  {
   "cell_type": "markdown",
   "metadata": {},
   "source": [
    "6. Tendo como dado de entrada a altura (h) de uma pessoa e o sexo, construa um algoritmo\n",
    "que calcule seu peso ideal, utilizando as seguintes fórmulas:\n",
    "Para homens: (72.7 * altura) –   58 Para mulheres: (62.1 * altura) - 44.7"
   ]
  },
  {
   "cell_type": "code",
   "execution_count": 14,
   "metadata": {},
   "outputs": [
    {
     "name": "stdout",
     "output_type": "stream",
     "text": [
      "Muié\n",
      "46.95\n"
     ]
    }
   ],
   "source": [
    "genero = input('Qual seu sexo?')\n",
    "if genero == 'M':\n",
    "    print('Homi')\n",
    "    h = float(input('Qual sua altura meu nobre?'))\n",
    "    ideal_h = 72.7 * h - 58\n",
    "    print(f'{ideal_h:.2f}')\n",
    "elif genero == 'F':\n",
    "    print('Muié')\n",
    "    h1 = float(input('Qua sua altura minha nobre?'))\n",
    "    ideal_f = 61.1 * h1 - 44.7\n",
    "    print(f'{ideal_f:.2f}')"
   ]
  },
  {
   "cell_type": "markdown",
   "metadata": {},
   "source": [
    "7. Faça um Programa que pergunte quanto você ganha por hora e o número de horas\n",
    "trabalhadas no mês.\n",
    "Calcule e mostre o total do seu salário no referido mês, sabendo-se que são descontados\n",
    "11% para o Imposto de Renda, 8% para o INSS e 5% para o sindicato, faça um programa\n",
    "que nos dê: salário bruto. quanto pagou ao INSS. quanto pagou ao sindicato. o salário\n",
    "líquido. calcule os descontos e o salário líquido, conforme a tabela abaixo:\n",
    "+ Salário Bruto : R$\n",
    "- IR (11%) : R$\n",
    "- INSS (8%) : R$\n",
    "- Sindicato ( 5%) : R$\n",
    "= Salário Liquido : R$"
   ]
  },
  {
   "cell_type": "code",
   "execution_count": 16,
   "metadata": {},
   "outputs": [
    {
     "name": "stdout",
     "output_type": "stream",
     "text": [
      "120000.0\n",
      "Seu salario bruto era de 120000.0, teve q tirar 13200.0 para o IR, 9600.0 e mais 6000.0\n",
      "Tendo como total de 91200.0\n"
     ]
    }
   ],
   "source": [
    "s = float(input('Quantos pataco vc recebe no mês'))\n",
    "mes = 200\n",
    "salario_bt = mes * s \n",
    "print(salario_bt)\n",
    "ir = salario_bt * 0.11\n",
    "inss = salario_bt * 0.08\n",
    "Sindicato = salario_bt * 0.05\n",
    "print(f'Seu salario bruto era de {salario_bt}, teve q tirar {ir} para o IR, {inss} e mais {Sindicato}')\n",
    "print(f'Tendo como total de {salario_bt - ir - inss - Sindicato}')"
   ]
  },
  {
   "cell_type": "markdown",
   "metadata": {},
   "source": [
    "8. Faça uma função que peça um valor e mostre na tela se o valor é positivo ou negativo."
   ]
  },
  {
   "cell_type": "code",
   "execution_count": 17,
   "metadata": {},
   "outputs": [
    {
     "name": "stdout",
     "output_type": "stream",
     "text": [
      "Nmr positivo\n"
     ]
    }
   ],
   "source": [
    "nmr = float(input('Fala um nmr ae lenda'))\n",
    "if nmr < 0 :\n",
    "    print('Nmr negativo')\n",
    "else :\n",
    "    print('Nmr positivo')\n"
   ]
  },
  {
   "cell_type": "markdown",
   "metadata": {},
   "source": [
    "9. Faça uma função que imprima na tela apenas os números ímpares entre 1 e 50."
   ]
  },
  {
   "cell_type": "code",
   "execution_count": 21,
   "metadata": {},
   "outputs": [
    {
     "name": "stdout",
     "output_type": "stream",
     "text": [
      "O nmr 1 é impar\n",
      "O nmr 3 é impar\n",
      "O nmr 5 é impar\n",
      "O nmr 7 é impar\n",
      "O nmr 9 é impar\n",
      "O nmr 11 é impar\n",
      "O nmr 13 é impar\n",
      "O nmr 15 é impar\n",
      "O nmr 17 é impar\n",
      "O nmr 19 é impar\n",
      "O nmr 21 é impar\n",
      "O nmr 23 é impar\n",
      "O nmr 25 é impar\n",
      "O nmr 27 é impar\n",
      "O nmr 29 é impar\n",
      "O nmr 31 é impar\n",
      "O nmr 33 é impar\n",
      "O nmr 35 é impar\n",
      "O nmr 37 é impar\n",
      "O nmr 39 é impar\n",
      "O nmr 41 é impar\n",
      "O nmr 43 é impar\n",
      "O nmr 45 é impar\n",
      "O nmr 47 é impar\n",
      "O nmr 49 é impar\n",
      "O nmr 51 é impar\n"
     ]
    }
   ],
   "source": [
    "x = 1\n",
    "while x <= 51:\n",
    "    if x % 2 !=0:\n",
    "        print(f'O nmr {x} é impar')\n",
    "    x = x +1"
   ]
  },
  {
   "cell_type": "markdown",
   "metadata": {},
   "source": [
    "10. Faça uma função que receba dois números inteiros e gere os números inteiros que estão\n",
    "no intervalo compreendido por eles."
   ]
  },
  {
   "cell_type": "code",
   "execution_count": null,
   "metadata": {},
   "outputs": [],
   "source": [
    "nmr1 = int(input('Qual seu nmr?'))\n",
    "nmr2 = int(input('Qual seu nmr?'))\n",
    "for x in range (nm1,nm2):\n",
    "    print(x)"
   ]
  },
  {
   "cell_type": "markdown",
   "metadata": {},
   "source": [
    "11. Faça uma função que peça um número positivo e em seguida mostre este número invertido.\n",
    "Exemplo: 12376489 => 98467321"
   ]
  },
  {
   "cell_type": "code",
   "execution_count": null,
   "metadata": {},
   "outputs": [],
   "source": [
    "palavra = input('Digita alguma coisa ae')\n",
    "nv_palavra = ''\n",
    "for letra in palavra :\n",
    "    nv_palavra = letra + nv_palavra\n",
    "print(nv_palavra)"
   ]
  },
  {
   "cell_type": "markdown",
   "metadata": {},
   "source": [
    "12. Faça um Programa que leia um vetor A com 5 números inteiros, calcule e mostre a soma\n",
    "dos quadrados dos elementos do vetor."
   ]
  },
  {
   "cell_type": "code",
   "execution_count": null,
   "metadata": {},
   "outputs": [],
   "source": [
    "nume = []\n",
    "soma = 0\n",
    "def numero (): \n",
    " n1 = int(input('digite um numero'))**2\n",
    " nume.append(n1)\n",
    " global soma\n",
    " soma = n1 + soma\n",
    "numero ()\n",
    "numero ()\n",
    "numero ()\n",
    "numero ()\n",
    "numero ()\n",
    "print(soma)"
   ]
  },
  {
   "cell_type": "markdown",
   "metadata": {},
   "source": [
    "13. Faça um Programa que leia 8 números inteiros e armazene-os num vetor. Armazene os\n",
    "números pares no vetor PAR e os números IMPARES no vetor impar. Imprima os três\n",
    "vetores."
   ]
  },
  {
   "cell_type": "code",
   "execution_count": null,
   "metadata": {},
   "outputs": [],
   "source": [
    "numeros = []\n",
    "par = []\n",
    "impar = []\n",
    "for x in range(8):\n",
    "    numero = int(input('Digite um número inteiro'))\n",
    "    numeros.append(numero)\n",
    "    if numero % 2 == 0:\n",
    "        par.append(numero)\n",
    "    elif numero %2 != 0:\n",
    "        impar.append(numero)\n",
    "print (numeros)\n",
    "print (par)\n",
    "print (impar)"
   ]
  },
  {
   "cell_type": "markdown",
   "metadata": {},
   "source": [
    "14. Numa eleição existem três candidatos. Faça um programa que peça o número total de\n",
    "eleitores. Peça para cada eleitor votar e ao final mostrar o número de votos de cada\n",
    "candidato."
   ]
  },
  {
   "cell_type": "code",
   "execution_count": null,
   "metadata": {},
   "outputs": [],
   "source": []
  },
  {
   "cell_type": "markdown",
   "metadata": {},
   "source": [
    "15. Faça um Programa que em uma função receba 4 notas bimestrais e mostre a média."
   ]
  },
  {
   "cell_type": "code",
   "execution_count": 23,
   "metadata": {},
   "outputs": [
    {
     "name": "stdout",
     "output_type": "stream",
     "text": [
      "8.125\n"
     ]
    }
   ],
   "source": [
    "nota1 = float(input('qual a primeira nota'))\n",
    "nota2 = float(input('qual a segunda nota'))\n",
    "nota3 = float(input('qual a terceira nota'))\n",
    "nota4 = float(input('qual a quarta nota'))\n",
    "soma = nota1 + nota2 + nota3 + nota4\n",
    "resultado = soma / 4\n",
    "print(resultado)"
   ]
  },
  {
   "cell_type": "markdown",
   "metadata": {},
   "source": [
    "16. Faça um Programa que em uma função receba uma medida em metros e converta retorne\n",
    "o valor convertido para centímetros."
   ]
  },
  {
   "cell_type": "code",
   "execution_count": null,
   "metadata": {},
   "outputs": [],
   "source": []
  },
  {
   "cell_type": "markdown",
   "metadata": {},
   "source": [
    "17. Faça um programa que receba a temperatura média de cada mês do ano e armazene-as\n",
    "em uma lista. Após isto, calcule a média anual das temperaturas e mostre todas as\n",
    "temperaturas acima da média anual, e em que mês elas ocorreram (mostrar o mês por\n",
    "extenso: 1 – Janeiro, 2 – Fevereiro, . . . )."
   ]
  },
  {
   "cell_type": "code",
   "execution_count": null,
   "metadata": {},
   "outputs": [],
   "source": []
  },
  {
   "cell_type": "markdown",
   "metadata": {},
   "source": [
    "18. Faça um programa que receba o valor de uma dívida e mostre uma tabela com os seguintes\n",
    "dados: valor da dívida, valor dos juros, quantidade de parcelas e valor da parcela. Os juros\n",
    "e a quantidade de parcelas seguem a tabela abaixo:\n",
    "Parcelas % Juros\n",
    "1 0%\n",
    "3 10%\n",
    "6 15%\n",
    "\n",
    "Dívida de R$ 1000,00\n",
    "\n",
    "Parcelas Juros Valor Parc.\n",
    "1 0,00 1000,00\n",
    "3 100,00 366,67\n",
    "6 150,00 191,67\n",
    "9 200,00 133,33\n",
    "12 250,00 104,67"
   ]
  },
  {
   "cell_type": "code",
   "execution_count": null,
   "metadata": {},
   "outputs": [],
   "source": []
  }
 ],
 "metadata": {
  "kernelspec": {
   "display_name": "Python 3",
   "language": "python",
   "name": "python3"
  },
  "language_info": {
   "codemirror_mode": {
    "name": "ipython",
    "version": 3
   },
   "file_extension": ".py",
   "mimetype": "text/x-python",
   "name": "python",
   "nbconvert_exporter": "python",
   "pygments_lexer": "ipython3",
   "version": "3.12.3"
  }
 },
 "nbformat": 4,
 "nbformat_minor": 2
}
