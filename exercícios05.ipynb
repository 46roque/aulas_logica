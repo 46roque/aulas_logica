{
 "cells": [
  {
   "cell_type": "markdown",
   "metadata": {},
   "source": [
    "1. Utilizando o comando while, exiba todos os números pares, de 1 a 20."
   ]
  },
  {
   "cell_type": "code",
   "execution_count": 1,
   "metadata": {},
   "outputs": [
    {
     "name": "stdout",
     "output_type": "stream",
     "text": [
      "número 2 é par\n",
      "número 4 é par\n",
      "número 6 é par\n",
      "número 8 é par\n",
      "número 10 é par\n",
      "número 12 é par\n",
      "número 14 é par\n",
      "número 16 é par\n",
      "número 18 é par\n",
      "número 20 é par\n"
     ]
    }
   ],
   "source": [
    "x = 1\n",
    "while x <=20 :\n",
    "    if x % 2 == 0 :\n",
    "        print(f'número {x} é par')\n",
    "    x = x+1"
   ]
  },
  {
   "cell_type": "markdown",
   "metadata": {},
   "source": [
    "2. Gere os 6 números do sorteio da mega-sena de forma aleatória."
   ]
  },
  {
   "cell_type": "code",
   "execution_count": 3,
   "metadata": {},
   "outputs": [
    {
     "name": "stdout",
     "output_type": "stream",
     "text": [
      "Os números sorteados na mega-sena são 44, 30, 20, 28, 9, 51\n"
     ]
    }
   ],
   "source": [
    "import random\n",
    "nmr0 = random.randint(1, 60)\n",
    "nmr1 = random.randint(1, 60)\n",
    "nmr2 = random.randint(1, 60)\n",
    "nmr3 = random.randint(1, 60)\n",
    "nmr4 = random.randint(1, 60)\n",
    "nmr5 = random.randint(1, 60)\n",
    "print(f'Os números sorteados na mega-sena são {nmr0}, {nmr1}, {nmr2}, {nmr3}, {nmr4}, {nmr5}')"
   ]
  },
  {
   "cell_type": "markdown",
   "metadata": {},
   "source": [
    "3. Receba alguns número e verifique a soma e a quantidade de todos os pares e ímpares\n",
    "digitados, digite 0 para não receber mais"
   ]
  },
  {
   "cell_type": "code",
   "execution_count": 12,
   "metadata": {},
   "outputs": [
    {
     "name": "stdout",
     "output_type": "stream",
     "text": [
      " A soma é 137 são 3 pares e 1 ímpares\n"
     ]
    }
   ],
   "source": [
    "soma = 0\n",
    "quantidadepar = 0\n",
    "quantidadeimpar = 0\n",
    "while True :\n",
    "    nmr = int(input('Digite o valor. [0 pra encerrar]'))\n",
    "    if nmr == 0 :\n",
    "        break \n",
    "    if nmr % 2 == 0:\n",
    "        quantidadepar += 1\n",
    "    if nmr % 2 == 1 :\n",
    "        quantidadeimpar += 1\n",
    "    soma += nmr\n",
    "print(f' A soma é {soma} são {quantidadepar} pares e {quantidadeimpar} ímpares')"
   ]
  }
 ],
 "metadata": {
  "kernelspec": {
   "display_name": "Python 3",
   "language": "python",
   "name": "python3"
  },
  "language_info": {
   "codemirror_mode": {
    "name": "ipython",
    "version": 3
   },
   "file_extension": ".py",
   "mimetype": "text/x-python",
   "name": "python",
   "nbconvert_exporter": "python",
   "pygments_lexer": "ipython3",
   "version": "3.12.2"
  }
 },
 "nbformat": 4,
 "nbformat_minor": 2
}
