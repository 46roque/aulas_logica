{
 "cells": [
  {
   "cell_type": "markdown",
   "metadata": {},
   "source": [
    "1. Crie uma lista de 7 filmes a sua escolha, e faça as seguintes operações:"
   ]
  },
  {
   "cell_type": "code",
   "execution_count": 29,
   "metadata": {},
   "outputs": [
    {
     "name": "stdout",
     "output_type": "stream",
     "text": [
      "['O poderoso chefão', 'Clube da luta', 'Deadpool', 'Scarface', 'Matrix', 'velozes e furiosos', 'O protetor']\n",
      "O poderoso chefão\n",
      "Scarface\n",
      "['O poderoso chefão', 'Clube da luta', 'Deadpool', 'Scarface', 'Matrix', 'velozes e furiosos', 'John Wick']\n",
      "['O poderoso chefão', 'Clube da luta', 'Deadpool', 'Scarface', 'Matrix', 'Homem de ferro', 'John Wick', 'Batman']\n",
      "['O poderoso chefão', 'Clube da luta', 'Deadpool', 'Scarface', 'Matrix', 'Homem de ferro', 'John Wick']\n",
      "['O poderoso chefão', 'Clube da luta', 'Deadpool', 'Scarface', 'Matrix', 'Homem de ferro']\n",
      "['O poderoso chefão', 'Clube da luta', 'Deadpool']\n",
      "['Deadpool', 'Scarface', 'Matrix', 'Homem de ferro']\n",
      "6\n",
      "['Homem de ferro', 'Matrix', 'Scarface', 'Deadpool', 'Clube da luta', 'O poderoso chefão']\n"
     ]
    }
   ],
   "source": [
    "filmes = ['O poderoso chefão', 'Clube da luta', 'Deadpool', 'Scarface', 'Matrix', 'velozes e furiosos', 'O protetor']\n",
    "print(filmes)\n",
    "print(filmes[0])\n",
    "print(filmes[3])\n",
    "filmes[6] = 'John Wick'\n",
    "print(filmes)\n",
    "filmes.append('Batman')\n",
    "filmes[5] = 'Homem de ferro'\n",
    "print(filmes)\n",
    "filmes.pop()\n",
    "print(filmes)\n",
    "filmes.pop(6)\n",
    "print(filmes)\n",
    "print(filmes[0:3])\n",
    "print(filmes[-4:])\n",
    "print(len(filmes))\n",
    "filmes.reverse()\n",
    "print(filmes)\n"
   ]
  },
  {
   "cell_type": "markdown",
   "metadata": {},
   "source": [
    "2. Crie uma lista com os 20 times do campeonato brasileiro de futebol"
   ]
  },
  {
   "cell_type": "code",
   "execution_count": 36,
   "metadata": {},
   "outputs": [
    {
     "name": "stdout",
     "output_type": "stream",
     "text": [
      "20\n",
      "Corinthians É CAMPEÃOOOO\n",
      "['Corinthians', 'Flamengo', 'São Paulo', 'Palmeiras'] Vão jogar a libertaa\n",
      "['Athletico-PR', 'Vitória', 'Cuiaba', 'santos'] Estão na série B, QUE FASE SANTOS KAKAKKAKAKKAKA 🤣🤣\n"
     ]
    }
   ],
   "source": [
    "times = ['Corinthians', 'Flamengo', 'São Paulo', 'Palmeiras', 'Goiais', 'Grêmio', 'Internacional', 'Cruzeiro', 'Atlético-MG', 'Fluminense', 'Botafogo', 'Bahia', 'Criciúma', 'Juventude', 'Atlético-GO', 'Bragantino', 'Athletico-PR', 'Vitória', 'Cuiaba', 'santos']\n",
    "print(len(times))\n",
    "print(times[0],'É CAMPEÃOOOO')\n",
    "print(times[0:4], 'Vão jogar a libertaa')\n",
    "print(times[-4:], 'Estão na série B, QUE FASE SANTOS KAKAKKAKAKKAKA 🤣🤣')"
   ]
  },
  {
   "cell_type": "markdown",
   "metadata": {},
   "source": [
    "3. Crie um programa que receba do usuário através do input 6 comidas e refaça todos\n",
    "os itens do exercício 1"
   ]
  }
 ],
 "metadata": {
  "kernelspec": {
   "display_name": "Python 3",
   "language": "python",
   "name": "python3"
  },
  "language_info": {
   "codemirror_mode": {
    "name": "ipython",
    "version": 3
   },
   "file_extension": ".py",
   "mimetype": "text/x-python",
   "name": "python",
   "nbconvert_exporter": "python",
   "pygments_lexer": "ipython3",
   "version": "3.12.3"
  }
 },
 "nbformat": 4,
 "nbformat_minor": 2
}
