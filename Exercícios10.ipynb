{
 "cells": [
  {
   "cell_type": "markdown",
   "metadata": {},
   "source": [
    "    1. Escreva uma função que utilize uma variável global para contar o número de vezes que foi chamada. A função deve retornar o número atual de chamadas."
   ]
  },
  {
   "cell_type": "code",
   "execution_count": 2,
   "metadata": {},
   "outputs": [
    {
     "name": "stdout",
     "output_type": "stream",
     "text": [
      "Fora da função: 2\n",
      "Dentro da função: 4\n",
      "Fora da função: 4\n"
     ]
    }
   ],
   "source": [
    "x = 2\n",
    "print ('Fora da função:', x)\n",
    "\n",
    "def MinhaFunção():\n",
    "    global x\n",
    "    x = x + 2\n",
    "    print('Dentro da função:', x)\n",
    "MinhaFunção()\n",
    "print('Fora da função:', x)\n",
    "\n"
   ]
  },
  {
   "cell_type": "markdown",
   "metadata": {},
   "source": [
    "    2. Crie um algoritmo que receba em variável global o valor atual do dólar e do euro, crie uma função que receba o valor a ser convertido e imprima a conversão em dólar e em euro"
   ]
  },
  {
   "cell_type": "code",
   "execution_count": 3,
   "metadata": {},
   "outputs": [
    {
     "name": "stdout",
     "output_type": "stream",
     "text": [
      "O valor em dólar é 1.95 , em euro é 1.83\n"
     ]
    }
   ],
   "source": [
    "dolar = 5.13\n",
    "euro = 5.45\n",
    "def transformar(valor1):\n",
    "    global dolar\n",
    "    global euro\n",
    "    conversão1 = valor1/dolar\n",
    "    conversão2 = valor1/euro\n",
    "    print(f'O valor em dólar é {conversão1:.2f} , em euro é {conversão2:.2f}')\n",
    "\n",
    "transformar(10)"
   ]
  },
  {
   "cell_type": "markdown",
   "metadata": {},
   "source": [
    "    3. Escreva uma função que recebe um nome e o adicione a uma lista de nomes global. Em seguida, escreva outra função que remova um elemento dessa lista global recebendo o nome."
   ]
  },
  {
   "cell_type": "code",
   "execution_count": null,
   "metadata": {},
   "outputs": [],
   "source": [
    "nome () "
   ]
  },
  {
   "cell_type": "markdown",
   "metadata": {},
   "source": [
    "    4."
   ]
  },
  {
   "cell_type": "code",
   "execution_count": 8,
   "metadata": {},
   "outputs": [
    {
     "name": "stdout",
     "output_type": "stream",
     "text": [
      "Menu\n",
      "[1] Depositar\n",
      "[2] Sacar\n",
      "[3] Consultar \n",
      "[4] Sair\n",
      "Seu saldo R$ 2.00\n"
     ]
    }
   ],
   "source": [
    "saldo = 0\n",
    "def Depositar(valor) :\n",
    "    global saldo \n",
    "    saldo = saldo + valor \n",
    "def Sacar(valor) :\n",
    "    global saldo\n",
    "    saldo = saldo - valor \n",
    "def Consultar_Saldo():\n",
    "    print(f'Seu saldo R$ {saldo:.2f}')\n",
    "print('Menu')\n",
    "print('[1] Depositar')\n",
    "print('[2] Sacar')\n",
    "print('[3] Consultar ')\n",
    "print('[4] Sair')\n",
    "while True :\n",
    "    opção = input('Digite a opção de menu')\n",
    "    if opção == '1' :\n",
    "        valor = float(input('Digite o valor para depositar'))\n",
    "        Depositar(valor)\n",
    "    elif opção == '2' :\n",
    "        valor = float(input('Digite o valor para sacar'))\n",
    "        sacar(valor)\n",
    "    elif opção == '3' :\n",
    "        Consultar_Saldo()\n",
    "    else :\n",
    "        break\n"
   ]
  },
  {
   "cell_type": "markdown",
   "metadata": {},
   "source": [
    "    5."
   ]
  },
  {
   "cell_type": "code",
   "execution_count": 13,
   "metadata": {},
   "outputs": [
    {
     "name": "stdout",
     "output_type": "stream",
     "text": [
      "*************************\n",
      "*************************\n",
      "*************************\n",
      "*************************\n",
      "*************************\n"
     ]
    }
   ],
   "source": [
    "caracter = '*'\n",
    "def Desenhar_Forma(l, a) :\n",
    "    for i in range(a) :\n",
    "        print(caracter * l)\n",
    "Desenhar_Forma(25,5)\n",
    "    \n"
   ]
  }
 ],
 "metadata": {
  "kernelspec": {
   "display_name": "Python 3",
   "language": "python",
   "name": "python3"
  },
  "language_info": {
   "codemirror_mode": {
    "name": "ipython",
    "version": 3
   },
   "file_extension": ".py",
   "mimetype": "text/x-python",
   "name": "python",
   "nbconvert_exporter": "python",
   "pygments_lexer": "ipython3",
   "version": "3.12.3"
  }
 },
 "nbformat": 4,
 "nbformat_minor": 2
}
