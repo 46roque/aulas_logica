{
 "cells": [
  {
   "cell_type": "markdown",
   "metadata": {},
   "source": [
    "1. Crie uma lista de 1 a 10 nmrs e imprima cada um "
   ]
  },
  {
   "cell_type": "code",
   "execution_count": 13,
   "metadata": {},
   "outputs": [
    {
     "name": "stdout",
     "output_type": "stream",
     "text": [
      "1\n",
      "2\n",
      "3\n",
      "4\n",
      "5\n",
      "6\n",
      "7\n",
      "8\n",
      "9\n",
      "10\n"
     ]
    }
   ],
   "source": [
    "lista_nmr = [1,2,3,4,5,6,7,8,9,10]\n",
    "for nmr in lista_nmr:\n",
    "    print(nmr)\n"
   ]
  },
  {
   "cell_type": "markdown",
   "metadata": {},
   "source": [
    "2. Crie uma lista com os nomes de três amigos e imprima cada nome."
   ]
  },
  {
   "cell_type": "code",
   "execution_count": 15,
   "metadata": {},
   "outputs": [
    {
     "name": "stdout",
     "output_type": "stream",
     "text": [
      " Vini7\n",
      " Marquin duGrau\n",
      " Paulin cupim de ferro\n"
     ]
    }
   ],
   "source": [
    "amigos = ' Vini7, Marquin duGrau, Paulin cupim de ferro'\n",
    "for amigos in lista_amigos:\n",
    "    print(amigos)"
   ]
  },
  {
   "cell_type": "markdown",
   "metadata": {},
   "source": [
    "3. Crie uma lista com os meses do ano e imprima apenas os meses que começam com \"J\"."
   ]
  },
  {
   "cell_type": "code",
   "execution_count": 17,
   "metadata": {},
   "outputs": [
    {
     "name": "stdout",
     "output_type": "stream",
     "text": [
      "Janeiro\n",
      "Junho\n",
      "Julho\n"
     ]
    }
   ],
   "source": [
    "lista_meses = ['Janeiro', 'Fevereiro', 'Março', 'Abril', 'Maio', 'Junho', 'Julho', 'Agosto', 'Setembro', 'Outubro', 'Novembro', 'Dezembro']\n",
    "for mes in lista_meses :\n",
    "    if mes[0] == 'J':\n",
    "        print(mes)"
   ]
  },
  {
   "cell_type": "markdown",
   "metadata": {},
   "source": [
    "4. Crie uma lista com as palavras \"gato\", \"cachorro\", \"pássaro\" e \"peixe\", e imprima cada palavra\n",
    "em maiúsculas."
   ]
  },
  {
   "cell_type": "code",
   "execution_count": 23,
   "metadata": {},
   "outputs": [
    {
     "name": "stdout",
     "output_type": "stream",
     "text": [
      "GATO\n",
      "CACHORRO\n",
      "PASSARO\n",
      "PEIXE \n"
     ]
    }
   ],
   "source": [
    "lista_animais = 'Gato' ,'Cachorro' ,'Pássaro','Peixe '\n",
    "for animal in lista_animais :\n",
    "    print(animal.upper())"
   ]
  },
  {
   "cell_type": "markdown",
   "metadata": {},
   "source": [
    "5. Crie uma lista com 5 números aleatórios e exiba o nr e seu dobro desse."
   ]
  },
  {
   "cell_type": "code",
   "execution_count": 37,
   "metadata": {},
   "outputs": [
    {
     "name": "stdout",
     "output_type": "stream",
     "text": [
      "12\n",
      "O dobro é 24\n",
      "56\n",
      "O dobro é 112\n",
      "7\n",
      "O dobro é 14\n",
      "99\n",
      "O dobro é 198\n",
      "43\n",
      "O dobro é 86\n"
     ]
    }
   ],
   "source": [
    "\n",
    "lista_nmrs = [12,56,7,99,43]\n",
    "for nmr in lista_nmrs :\n",
    "    print(nmr)\n",
    "    print(f'O dobro é {nmr*2}')\n"
   ]
  },
  {
   "cell_type": "markdown",
   "metadata": {},
   "source": [
    "6. Crie uma lista com valores numéricos e encontre o maior e o menor elemento dessa lista."
   ]
  },
  {
   "cell_type": "code",
   "execution_count": 39,
   "metadata": {},
   "outputs": [
    {
     "name": "stdout",
     "output_type": "stream",
     "text": [
      "Lista de valores numéricos: [10, 5, 20, 15, 8]\n",
      "Maior elemento da lista: 20\n",
      "Menor elemento da lista: 5\n"
     ]
    }
   ],
   "source": [
    "lista = [10, 5, 20, 15, 8]\n",
    "maior = lista[0]\n",
    "menor = lista[0]\n",
    "for num in lista:\n",
    "    if num > maior:\n",
    "        maior = num\n",
    "    if num < menor:\n",
    "        menor = num\n",
    "\n",
    "print(\"Lista de valores numéricos:\", lista)\n",
    "print(\"Maior elemento da lista:\", maior)\n",
    "print(\"Menor elemento da lista:\", menor)"
   ]
  },
  {
   "cell_type": "markdown",
   "metadata": {},
   "source": [
    "7. Receba uma palavra do usuário e calcule quantas vogais há nesta palavra."
   ]
  },
  {
   "cell_type": "code",
   "execution_count": 42,
   "metadata": {},
   "outputs": [
    {
     "name": "stdout",
     "output_type": "stream",
     "text": [
      "A palavra amar tem 2 vogais \n"
     ]
    }
   ],
   "source": [
    "palavra = input('Digite uma palavra')\n",
    "vogais = ['a', 'e', 'i', 'o', 'u']\n",
    "qntd_vogais = 0\n",
    "for letra in palavra :\n",
    "    if letra.lower() in vogais :\n",
    "        qntd_vogais = qntd_vogais + 1\n",
    "\n",
    "print(f'A palavra {palavra} tem {qntd_vogais} vogais ')"
   ]
  }
 ],
 "metadata": {
  "kernelspec": {
   "display_name": "Python 3",
   "language": "python",
   "name": "python3"
  },
  "language_info": {
   "codemirror_mode": {
    "name": "ipython",
    "version": 3
   },
   "file_extension": ".py",
   "mimetype": "text/x-python",
   "name": "python",
   "nbconvert_exporter": "python",
   "pygments_lexer": "ipython3",
   "version": "3.12.undefined"
  }
 },
 "nbformat": 4,
 "nbformat_minor": 2
}
