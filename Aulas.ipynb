{
 "cells": [
  {
   "cell_type": "markdown",
   "metadata": {},
   "source": [
    "Aula 15/02/2024 -\n",
    "Comandos de saída (print)\n",
    "tipos de dados (string, int, float, bool)\n",
    "Operações aritméticas (+-*/%**)"
   ]
  },
  {
   "cell_type": "code",
   "execution_count": 15,
   "metadata": {},
   "outputs": [],
   "source": [
    "#este é meu primeiro código"
   ]
  },
  {
   "cell_type": "code",
   "execution_count": 1,
   "metadata": {},
   "outputs": [
    {
     "name": "stdout",
     "output_type": "stream",
     "text": [
      "O mundo é nosso caralhooouuuuuuuu\n",
      "para duplicar uma linha pressionei shift + alt + seta para baixo\n",
      "123\n",
      "70.5\n",
      "True\n",
      "14\n",
      "86\n",
      "string 10 70.5 False\n",
      "60\n",
      "54\n",
      "1316223135288\n",
      "1609.0\n",
      "1\n",
      "27\n",
      "7.0\n"
     ]
    }
   ],
   "source": [
    "print(\"O mundo é nosso caralhooouuuuuuuu\")\n",
    "# A função print serve para exbir na tela alguma mensagem \n",
    "# A função print serve para exbir na tela alguma mensagem \n",
    "# A função print serve para exbir na tela alguma mensagem \n",
    "# A função print serve para exbir na tela alguma mensagem \n",
    "print(\"para duplicar uma linha pressionei shift + alt + seta para baixo\")\n",
    "print(123) #estou exibindo um número inteiro, por isso, não precsa da \"\"\n",
    "print(70.5) #número float\n",
    "print(True) #Tipo string\n",
    "\n",
    "print(8 + 6)\n",
    "#somando 2 números inteiros (o sinal de + para 2 números realiza a SOMA)\n",
    "\n",
    "print('8' + '6')\n",
    "#porém se forem 2 strings (o sinal de + realiza a CONCATENAÇÃO)\n",
    "\n",
    "print('string', 10, 70.5, False)\n",
    "#posso impedir varias informações ao mesmo tempo separando-as por ,\n",
    "\n",
    "print( 10 + 50 ) # + é o operador de SOMA (número inteiro ou decimal)\n",
    "print( 67 - 13 ) # - é o operador de SUBTRAÇÃO ( n° inteiro ou decimal)\n",
    "print( 4214328 * 312321 ) # * é o operador de MULTIPLICAÇÃO\n",
    "print( 4827 / 3 ) # / é o operador de DIVISÃO \n",
    "print( 31 % 2 ) # % é o operador do resto da divisão (MÓDULO)\n",
    "print( 3 ** 3 ) # ** é o operador de EXPONENCIAÇÃO 3³\n",
    "\n",
    "print( (8 + 6) / 2 ) # O parênteses define a maior ordem de precedência "
   ]
  },
  {
   "cell_type": "markdown",
   "metadata": {},
   "source": [
    "Aula 22/02/2024 - Comandos de entrada (input)/ Variáveis / Pseudocódigo\n"
   ]
  },
  {
   "cell_type": "code",
   "execution_count": 2,
   "metadata": {},
   "outputs": [
    {
     "name": "stdout",
     "output_type": "stream",
     "text": [
      "Desenvolvimento de sistemas\n",
      "curso\n",
      "Desenvolvimento de sistemas\n",
      "curso Desenvolvimento de sistemas\n"
     ]
    }
   ],
   "source": [
    "#Declarando minha primeira variável\n",
    "#lemos da seguinte forma:\n",
    "#variável curso recebe(=) a string \"Desenvolvimento de sistema\"\n",
    "curso = \"Desenvolvimento de sistemas\"\n",
    "#Receba txt Desenvolvimento de sistemas \n",
    "print(\"Desenvolvimento de sistemas\")\n",
    "print(\"curso\")  #para imprimir uma variável não se coloca ente\" \"\n",
    "print(curso)  # Jeito correto de utilizar uma variável\n",
    "print (\"curso\", curso) \n",
    "#Criando e atribuindo uma variável \n",
    "Temperatura = 23.5\n",
    "#Declarando variáveis lógicas, recebe apenas true or False\n",
    "chovendo = False\n",
    "dia = True\n",
    "pi = 3.1415\n",
    "#passo 1: receber o nome da pessoa\n",
    "#passo 2: receber a idade da pessoa\n",
    "#passo 3: receber o peso da pessoa\n",
    "#passo 4: exibir o nome, a idade e o peso\n",
    "peso=int(input(\"qual é o seu peso\"))\n",
    "idade=float(input(\"qual é a sua idade\"))\n",
    "nome=input(\"qual é o seu nome\")\n",
    "#Recebendo o nome das variáveis\n",
    "\n",
    "\n",
    "\n",
    "\n"
   ]
  },
  {
   "cell_type": "markdown",
   "metadata": {},
   "source": [
    "23/02/2024 - Operações com variáveis "
   ]
  },
  {
   "cell_type": "code",
   "execution_count": 1,
   "metadata": {},
   "outputs": [
    {
     "name": "stdout",
     "output_type": "stream",
     "text": [
      "60.0\n",
      "<class 'float'>\n"
     ]
    }
   ],
   "source": [
    "#Receber o primeiro numero\n",
    "numero1= float (input('digite o primeiro número: '))\n",
    "#Receber o segundo numero\n",
    "numero2= float (input('digite o segundo número: '))\n",
    "#Receba o terceiro número\n",
    "numero3 = float(input('digite o terceiro número:'))\n",
    "#Soma o primeiro numero + o segundo numero \n",
    "soma = numero1 + numero2 + numero3 \n",
    "#Exibir o resultado\n",
    "print(soma)\n",
    "print(type(soma))\n"
   ]
  },
  {
   "cell_type": "code",
   "execution_count": 6,
   "metadata": {},
   "outputs": [
    {
     "name": "stdout",
     "output_type": "stream",
     "text": [
      "72.0\n"
     ]
    }
   ],
   "source": [
    "#Receba o quarto número\n",
    "numero4 =float(input('digite o quarto número'))\n",
    "#Receba o quinto número\n",
    "numero5 =float(input('digite o quinto número'))\n",
    "resultado = numero4 * numero5\n",
    "print(resultado)\n"
   ]
  },
  {
   "cell_type": "code",
   "execution_count": 9,
   "metadata": {},
   "outputs": [
    {
     "name": "stdout",
     "output_type": "stream",
     "text": [
      "1985.0\n",
      "Você obteve R$ 15.0, e pague R$ 1985.0\n"
     ]
    }
   ],
   "source": [
    "#Passo1: Receba o preço do celular\n",
    "preço= float(input('qual o valor do celular?'))\n",
    "#Passo2: Receba o valor do desconto\n",
    "desconto= float(input('qual o valor do desconto?'))\n",
    "#Passo3: Calcular o novo valor do celular\n",
    "preço= preço - desconto\n",
    "print(preço)\n",
    "print(f'Você obteve R$ {desconto}, e pague R$ {preço}')"
   ]
  },
  {
   "cell_type": "code",
   "execution_count": 12,
   "metadata": {},
   "outputs": [
    {
     "name": "stdout",
     "output_type": "stream",
     "text": [
      "2.0\n",
      "4.0\n",
      "120.0\n",
      "O valor final é 120.0\n"
     ]
    }
   ],
   "source": [
    "numero = 4 / 2\n",
    "print (numero)\n",
    "numero = numero ** 2\n",
    "print (numero)\n",
    "numero = numero * (50 - 20)\n",
    "print (numero)\n",
    "print (f'O valor final é {numero}')"
   ]
  },
  {
   "cell_type": "code",
   "execution_count": 13,
   "metadata": {},
   "outputs": [
    {
     "name": "stdout",
     "output_type": "stream",
     "text": [
      "12000\n"
     ]
    }
   ],
   "source": [
    "hora = 8\n",
    "dia = 15\n",
    "preco = 100\n",
    "hora = hora * dia\n",
    "resultado = hora * preco\n",
    "print(resultado)"
   ]
  },
  {
   "cell_type": "markdown",
   "metadata": {},
   "source": [
    "29/02/2024 - Operadores relacionais e estrutura condicional\n"
   ]
  },
  {
   "cell_type": "code",
   "execution_count": 6,
   "metadata": {},
   "outputs": [
    {
     "name": "stdout",
     "output_type": "stream",
     "text": [
      "a > b ?False \n",
      "a == b ?False \n",
      "a != b ?True \n",
      "a > 2 ?False \n",
      "a >= 2 ?True \n"
     ]
    }
   ],
   "source": [
    "a=2\n",
    "b=3\n",
    "print(f'a > b ?{a > b} ')\n",
    "print(f'a == b ?{a == b} ')\n",
    "print(f'a != b ?{a != b} ')\n",
    "print(f'a > 2 ?{a > 2} ')\n",
    "print(f'a >= 2 ?{a >= 2} ')"
   ]
  },
  {
   "cell_type": "code",
   "execution_count": 11,
   "metadata": {},
   "outputs": [
    {
     "name": "stdout",
     "output_type": "stream",
     "text": [
      "posso entrar\n",
      "fim\n"
     ]
    }
   ],
   "source": [
    "tenho_ingresso = True\n",
    "if tenho_ingresso == True:\n",
    "    print('posso entrar')\n",
    "else: \n",
    "    print('Vá compar')\n",
    "\n",
    "print('fim')"
   ]
  },
  {
   "cell_type": "code",
   "execution_count": 9,
   "metadata": {},
   "outputs": [
    {
     "name": "stdout",
     "output_type": "stream",
     "text": [
      "Maior Idade\n",
      "FIM\n"
     ]
    }
   ],
   "source": [
    "# Passo 1: receber o valor da idade\n",
    "idade = int(input('Qual sua idade'))\n",
    "# Passo 2: Verificar SE é maior ou igual a 18 ENTÃO\n",
    "if idade >= 18 :\n",
    "    # Passo 3: Se for exibir \"Maior Idade\" \n",
    "    print(\"Maior Idade\")\n",
    "print('FIM')"
   ]
  },
  {
   "cell_type": "markdown",
   "metadata": {},
   "source": [
    "01/03/2024 - Operadores lógicos e estrutura condicional"
   ]
  },
  {
   "cell_type": "code",
   "execution_count": 3,
   "metadata": {},
   "outputs": [
    {
     "name": "stdout",
     "output_type": "stream",
     "text": [
      "False\n",
      "False\n",
      "True\n",
      "True\n"
     ]
    }
   ],
   "source": [
    "a = 2\n",
    "b = 3\n",
    "c = 5\n",
    "#      FALSE   E   FALSE \n",
    "print((a > 2) and (b < 2)) # False\n",
    "print((a > 2) or (b < 2)) #False\n",
    "#      TRUE   OU  TRUE\n",
    "print((a > 2) or (b < 5)) #True\n",
    "\n",
    "idade = 18\n",
    "#        FALSE         TRUE\n",
    "print(idade > 18 or idade == 18) #True\n",
    "#         idade >= 18"
   ]
  },
  {
   "cell_type": "code",
   "execution_count": 6,
   "metadata": {},
   "outputs": [
    {
     "name": "stdout",
     "output_type": "stream",
     "text": [
      "THAIS CARLAAAA 🤣😂\n"
     ]
    }
   ],
   "source": [
    "altura = float(input('digite sua altura'))\n",
    "peso = float(input('digite seu peso'))\n",
    "imc = peso / (altura ** 2)\n",
    "print (f'seu imc é {imc:.1f}')\n",
    "if imc < 18.5 :\n",
    "    print ('abaixo do peso ideal!')\n",
    "elif imc >= 18.6 and imc <= 24.9 :\n",
    "    print ('peso ideal')\n",
    "elif imc >= 25 and imc <= 29.9 :\n",
    "    print ('sobrepeso')\n",
    "else :\n",
    "    print ('THAIS CARLAAAA 🤣😂')"
   ]
  },
  {
   "cell_type": "code",
   "execution_count": 9,
   "metadata": {},
   "outputs": [
    {
     "name": "stdout",
     "output_type": "stream",
     "text": [
      "triangulo escaleno\n"
     ]
    }
   ],
   "source": [
    "lado1 = input('digite o lado1')\n",
    "lado2 = input('digite o lado2')\n",
    "lado3 = input('digite o lado3')\n",
    "if (lado1 == lado2) and (lado2 == lado3):\n",
    "    print('triangulo equilatero')\n",
    "elif(lado1 != lado2) and (lado2 != lado3) and (lado1 != lado3):\n",
    "    print('triangulo escaleno')\n",
    "else :\n",
    "    print('triangulo isoceles')"
   ]
  },
  {
   "cell_type": "code",
   "execution_count": null,
   "metadata": {},
   "outputs": [],
   "source": [
    "letra = input('digite uma letra:')\n",
    "if letra == 'a' or letra=='e' or letra=='i' or letra=='o' or letra=='u' :\n",
    "    print(f'a letra {letra} é uma vogal')\n",
    "elif letra == '1' or '2' or '3':\n",
    "    print(f'a letra {letra} é um número')\n",
    "else:\n",
    "    print(f'a letra {letra} n é uma vogal')"
   ]
  },
  {
   "cell_type": "markdown",
   "metadata": {},
   "source": [
    "21/03/2024 - Revisão de while"
   ]
  },
  {
   "cell_type": "code",
   "execution_count": 5,
   "metadata": {},
   "outputs": [
    {
     "name": "stdout",
     "output_type": "stream",
     "text": [
      "FIM\n"
     ]
    }
   ],
   "source": [
    "resp = 'S'\n",
    "while resp == 'S' :\n",
    "     resp = input('Deseja continuar? [S/N]')\n",
    "print('FIM')"
   ]
  },
  {
   "cell_type": "code",
   "execution_count": 6,
   "metadata": {},
   "outputs": [
    {
     "name": "stdout",
     "output_type": "stream",
     "text": [
      "Valor total R$ 60.00 quantidade produtos 2\n"
     ]
    }
   ],
   "source": [
    "soma = 0\n",
    "quantidade = 0\n",
    "while True : \n",
    "    valor = float(input('Digite o valor do produto [-1 pra encerrar]'))\n",
    "    if valor == -1 :\n",
    "        break\n",
    "    soma = valor + valor\n",
    "    quantidade = quantidade + 1 \n",
    "print (f'Valor total R$ {soma:.2f} quantidade produtos {quantidade}')"
   ]
  },
  {
   "cell_type": "code",
   "execution_count": 3,
   "metadata": {},
   "outputs": [
    {
     "name": "stdout",
     "output_type": "stream",
     "text": [
      "77\n",
      "==============================\n",
      "  🤔 JOGO DA ADVINHAÇÃO 🤔\n",
      "==============================\n",
      "vc chutou 7. Tente um número maior\n",
      "vc chutou 15. Tente um número maior\n",
      "vc chutou 38. Tente um número maior\n",
      "vc chutou 67. Tente um número maior\n",
      "vc chutou 88. Tente um número menor\n",
      "vc chutou 80. Tente um número menor\n",
      "vc chutou 73. Tente um número maior\n",
      "vc chutou 75. Tente um número maior\n",
      "vc chutou 77. Parabens vc acertou\n",
      "77\n"
     ]
    }
   ],
   "source": [
    "import random \n",
    "número_sorteado = random.randint(1, 100)\n",
    "print(número_sorteado)\n",
    "\n",
    "print('==============================')\n",
    "print('  🤔 JOGO DA ADVINHAÇÃO 🤔'   )\n",
    "print('==============================')\n",
    "\n",
    "acertou = False\n",
    "while acertou == False :\n",
    "    chute = int(input('Digite um número de 1 a 100:')) \n",
    "    if chute == número_sorteado :\n",
    "        print (f'vc chutou {chute}. Parabens vc acertou')\n",
    "        acertou = True\n",
    "    elif chute > número_sorteado :\n",
    "        print (f'vc chutou {chute}. Tente um número menor👇')\n",
    "    else :\n",
    "        print (f'vc chutou {chute}. Tente um número maior ☝')\n",
    "\n",
    "print (número_sorteado)"
   ]
  },
  {
   "cell_type": "markdown",
   "metadata": {},
   "source": [
    "22/03/2024 - for"
   ]
  },
  {
   "cell_type": "code",
   "execution_count": 2,
   "metadata": {},
   "outputs": [
    {
     "name": "stdout",
     "output_type": "stream",
     "text": [
      "1\n",
      "2\n",
      "3\n",
      "4\n",
      "5\n"
     ]
    }
   ],
   "source": [
    "\n",
    "for x in range(5) :\n",
    "    x = x + 1\n",
    "    print(x)"
   ]
  },
  {
   "cell_type": "code",
   "execution_count": 4,
   "metadata": {},
   "outputs": [
    {
     "name": "stdout",
     "output_type": "stream",
     "text": [
      "Entregando os notebooks\n",
      "Pegar o notebook 1? \n",
      "pegar o mouse 1\n",
      "levar o notebook até o(a) 7\n",
      "Pegar o notebook 2? \n",
      "pegar o mouse 2\n",
      "levar o notebook até o(a) 6\n",
      "Pegar o notebook 3? \n",
      "pegar o mouse 3\n",
      "levar o notebook até o(a) CAMILA\n",
      "Pegar o notebook 4? \n",
      "pegar o mouse 4\n",
      "levar o notebook até o(a) Cauã\n"
     ]
    }
   ],
   "source": [
    "print('Entregando os notebooks')\n",
    "for nmr in range(32) :\n",
    "    nmr = nmr + 1\n",
    "    nome = input(f'quem é o n° {nmr}?')\n",
    "    presente = input(f'O(a) {nome} veio pra escola? [S/N]')\n",
    "    if presente == 'S' :\n",
    "        print(f'Pegar o notebook {nmr} ')\n",
    "        print(f'pegar o mouse {nmr}')\n",
    "        print(f'levar o notebook até o(a) {nome}')\n",
    "    else :\n",
    "        print(f'não pegar o notebook {nmr}')\n",
    "\n",
    "print('Começar a aula')\n"
   ]
  },
  {
   "cell_type": "code",
   "execution_count": null,
   "metadata": {},
   "outputs": [],
   "source": [
    "for x in range(5, 30 , 2) :\n",
    "    print(x)"
   ]
  },
  {
   "cell_type": "code",
   "execution_count": 1,
   "metadata": {},
   "outputs": [
    {
     "name": "stdout",
     "output_type": "stream",
     "text": [
      "7 x 0 = 0\n",
      "7 x 1 = 7\n",
      "7 x 2 = 14\n",
      "7 x 3 = 21\n",
      "7 x 4 = 28\n",
      "7 x 5 = 35\n",
      "7 x 6 = 42\n",
      "7 x 7 = 49\n",
      "7 x 8 = 56\n",
      "7 x 9 = 63\n",
      "7 x 10 = 70\n"
     ]
    }
   ],
   "source": [
    "nmr = int(input('Digita o nmr ai meu nobre'))\n",
    "for x in range (11) :\n",
    "    print(f'{nmr} x {x} = {nmr*x}')"
   ]
  },
  {
   "cell_type": "code",
   "execution_count": null,
   "metadata": {},
   "outputs": [],
   "source": [
    "for letra in 'SESI/SENAI' : \n",
    "    print(letra)\n",
    "print('FIM')"
   ]
  },
  {
   "cell_type": "code",
   "execution_count": null,
   "metadata": {},
   "outputs": [],
   "source": [
    "for x in range(100) :\n",
    "    if x == 10 :\n",
    "        break \n",
    "    print(x)"
   ]
  },
  {
   "cell_type": "markdown",
   "metadata": {},
   "source": [
    "28/03/2024 - Variáveis compostas - vetores / listas"
   ]
  },
  {
   "cell_type": "code",
   "execution_count": null,
   "metadata": {},
   "outputs": [],
   "source": [
    "frutas = ['maçã' , 'banana', 'abacaxi', 'uva']\n",
    "print(frutas)\n",
    "print(frutas[1])\n",
    "\n",
    "#Declaração de uma lista vazia\n",
    "lista_vazia = []\n",
    "\n",
    "#Declaração de uma lista de números\n",
    "numeros = [5, 8, 10, 40, 3]\n",
    "\n",
    "#Declaração de uma lista de strings\n",
    "nomes = ['Ana', 'João', 'Maria']\n",
    "\n",
    "#Declaração de uma lista mista\n",
    "lista_mista = [1, \"teste\", True, 3.5]"
   ]
  },
  {
   "cell_type": "code",
   "execution_count": 7,
   "metadata": {},
   "outputs": [
    {
     "name": "stdout",
     "output_type": "stream",
     "text": [
      "['🍎', '🍌', '🍍', '🍉']\n",
      "['🍎', '🍌', '🍍', '🍉', '🍊']\n",
      "['🍎', '🍌', '🍓', '🍍', '🍉', '🍊']\n",
      "['🍎', '🍌', '🍓', '🍊']\n"
     ]
    }
   ],
   "source": [
    "frutas = ['🍎' , '🍌', '🍍', '🍇']\n",
    "#Alterando o valor de um item da lista\n",
    "frutas[3] = '🍉'\n",
    "print(frutas)\n",
    "\n",
    "#Incluindo um novo item na lista\n",
    "frutas.append('🍊')\n",
    "print(frutas)\n",
    "\n",
    "#Incluindo um novo item em uma posição específica\n",
    "frutas.insert(2, '🍓')\n",
    "print (frutas)\n",
    "\n",
    "#Excluindo item da lista\n",
    "del frutas[3]\n",
    "#frutas.pop(3)\n",
    "frutas.remove('🍍')\n",
    "#Excluindo último item da lista\n",
    "frutas.pop(3)\n",
    "print(frutas)\n"
   ]
  },
  {
   "cell_type": "code",
   "execution_count": null,
   "metadata": {},
   "outputs": [],
   "source": [
    "frutas = ['🍎', '🍌', '🍓', '🍍', '🍉', '🍊', '🍇']\n",
    "print(fruta[4])\n",
    "print(fruta[0:4])\n",
    "print(fruta[1:])\n",
    "print(fruta[-1])\n",
    "print(len(fruta))\n",
    "\n",
    "frutas.sort() #Ordenando lista em ordem crescente\n",
    "print(frutas)\n",
    "frutas.reverse() #Ordenando lista em ordem crescente \n",
    "print(frutas)"
   ]
  },
  {
   "cell_type": "markdown",
   "metadata": {},
   "source": [
    "04/04/2024 - Interação em listas"
   ]
  },
  {
   "cell_type": "code",
   "execution_count": 22,
   "metadata": {},
   "outputs": [
    {
     "name": "stdout",
     "output_type": "stream",
     "text": [
      "f É uma consoante\n"
     ]
    }
   ],
   "source": [
    "#Criando uma lista de vogais\n",
    "vogais = ['a', 'e', 'i', 'o', 'u']\n",
    "nmrs = ['0', '1', '2', '3', '4', '5', '6', '7', '8', '9']\n",
    "consoantes = ['b', 'c', 'd', 'f', 'g', 'h', 'j', 'k', 'l', 'm', 'n', 'o', 'p', 'q', 'r', 's', 't', 'u', 'v', 'w', 'x', 'y', 'z']\n",
    "#Recebendo um caractere digitado pelo usuário\n",
    "letra = input('Informe um caractere')\n",
    "if letra.lower() in vogais:\n",
    "    print(f'{letra} É uma vogal')\n",
    "elif letra.lower() in consoantes:\n",
    "    print(f'{letra} É uma consoante')\n",
    "else:\n",
    "    print(f'{letra} N é uma letra')\n",
    "\n",
    "    "
   ]
  },
  {
   "cell_type": "code",
   "execution_count": 26,
   "metadata": {},
   "outputs": [
    {
     "name": "stdout",
     "output_type": "stream",
     "text": [
      "Pelé👑\n",
      "Neymar😍\n",
      "Romario🥶\n",
      "Cristiano Ronaldo😈\n"
     ]
    }
   ],
   "source": [
    "lista_nomes = ['Pelé👑', 'Neymar😍', 'Romario🥶', 'Cristiano Ronaldo😈']\n",
    "for nome in lista_nomes:\n",
    "    print(nome)"
   ]
  },
  {
   "cell_type": "code",
   "execution_count": 3,
   "metadata": {},
   "outputs": [
    {
     "name": "stdout",
     "output_type": "stream",
     "text": [
      "9\n"
     ]
    }
   ],
   "source": [
    "lista_nmr = [4,6,2,5,9]\n",
    "soma = 0\n",
    "for nmr in lista_nmr:\n",
    "    soma = soma + nmr\n",
    "print(nmr)"
   ]
  },
  {
   "cell_type": "code",
   "execution_count": 27,
   "metadata": {},
   "outputs": [
    {
     "name": "stdout",
     "output_type": "stream",
     "text": [
      "A fruta 🍎 está na posição 0\n",
      "A fruta 🍌 está na posição 1\n",
      "A fruta 🍍 está na posição 2\n",
      "A fruta 🍇 está na posição 3\n"
     ]
    }
   ],
   "source": [
    "lista_frutas = ['🍎', '🍌', '🍍', '🍇']\n",
    "for pos, fruta in enumerate(lista_frutas):\n",
    "    print(f'A fruta {fruta} está na posição {pos}')"
   ]
  },
  {
   "cell_type": "code",
   "execution_count": 4,
   "metadata": {},
   "outputs": [
    {
     "name": "stdout",
     "output_type": "stream",
     "text": [
      " Celular\n",
      " Notebook\n",
      " TV\n",
      " Tablet\n",
      " Headset\n"
     ]
    }
   ],
   "source": [
    "produtos = ' Celular, Notebook, TV, Tablet, Headset'\n",
    "lista_produtos = produtos.split(',')\n",
    "for produto in lista_produtos:\n",
    "    print(produto)"
   ]
  },
  {
   "cell_type": "code",
   "execution_count": 5,
   "metadata": {},
   "outputs": [
    {
     "name": "stdout",
     "output_type": "stream",
     "text": [
      "S\n",
      "E\n",
      "N\n",
      "A\n",
      "I\n"
     ]
    }
   ],
   "source": [
    "palavra = 'SENAI'\n",
    "for letra in palavra:\n",
    "    print(letra)\n"
   ]
  },
  {
   "cell_type": "code",
   "execution_count": 2,
   "metadata": {},
   "outputs": [
    {
     "name": "stdout",
     "output_type": "stream",
     "text": [
      "1° Comida japonesa\n",
      "2° Podrão\n",
      "3° Lasanha\n",
      "4° Batata frita\n"
     ]
    }
   ],
   "source": [
    "#Criando uma lista vazia\n",
    "lista_comidas = []\n",
    "#Laço de repetição sem ser um nmr de execução definida\n",
    "while True :\n",
    "    #Recebendo informação do usúario e armazenamento em uma variável\n",
    "    comida = input('Digite uma comida, sua favoritaa!!')\n",
    "    #Inserindo o valor da variável no final de sua lista\n",
    "    lista_comidas.append(comida)\n",
    "    resposta = input('Deseja continuar? [S/N]')\n",
    "    #Verificando condição da resposta dele, se for N ou n sair do laço\n",
    "    if resposta in 'Nn' :\n",
    "        #Parando o laço de repetição while\n",
    "        break\n",
    "\n",
    "#Fora do while - após finalizar sua executação e encontrar o break\n",
    "#Laço de repetição para exibir os itens e suas posições\n",
    "for pos, comida in enumerate(lista_comidas) :\n",
    "    #Exibindo as variáveis de cada item da lista\n",
    "    print(f'{pos+1}° {comida}')\n"
   ]
  },
  {
   "cell_type": "markdown",
   "metadata": {},
   "source": [
    ">11/04/2024 - Funções"
   ]
  },
  {
   "cell_type": "code",
   "execution_count": 1,
   "metadata": {},
   "outputs": [
    {
     "name": "stdout",
     "output_type": "stream",
     "text": [
      "--------------------\n",
      "SESI / SENAI\n",
      "--------------------\n"
     ]
    }
   ],
   "source": [
    "print ('-' * 20)\n",
    "print ('SESI / SENAI')\n",
    "print ('-' * 20) "
   ]
  },
  {
   "cell_type": "code",
   "execution_count": 2,
   "metadata": {},
   "outputs": [
    {
     "name": "stdout",
     "output_type": "stream",
     "text": [
      "--------------------\n",
      "SESI / SENAI\n",
      "--------------------\n"
     ]
    }
   ],
   "source": [
    "def Cabeçalho():\n",
    "    print ('-' * 20)\n",
    "    print ('SESI / SENAI')\n",
    "    print ('-' * 20)\n",
    "\n",
    "Cabeçalho()"
   ]
  },
  {
   "cell_type": "code",
   "execution_count": 4,
   "metadata": {},
   "outputs": [
    {
     "name": "stdout",
     "output_type": "stream",
     "text": [
      "Maaaaaarcoosss Tenha um bom dia\n",
      "Roque7 Tenha um bom dia\n",
      "Paulo Tenha um bom dia\n"
     ]
    }
   ],
   "source": [
    "def saudação():\n",
    "    nome = input('Qual seu nome?')\n",
    "    print (f'{nome} Tenha um bom dia')\n",
    "for n in range(3):\n",
    "    saudação()\n",
    "    \n"
   ]
  },
  {
   "cell_type": "code",
   "execution_count": 9,
   "metadata": {},
   "outputs": [
    {
     "name": "stdout",
     "output_type": "stream",
     "text": [
      "--------------------\n",
      "SESI\n",
      "--------------------\n",
      "--------------------\n",
      "SENAI\n",
      "--------------------\n",
      "--------------------\n",
      "ESCOLA\n",
      "--------------------\n"
     ]
    }
   ],
   "source": [
    "def Cabeçalho(txt):\n",
    "    print('-' * 20)\n",
    "    print (txt)\n",
    "    print('-' * 20)\n",
    "\n",
    "Cabeçalho('SESI')\n",
    "Cabeçalho('SENAI')\n",
    "Cabeçalho('ESCOLA')\n",
    "\n",
    "   "
   ]
  },
  {
   "cell_type": "code",
   "execution_count": 13,
   "metadata": {},
   "outputs": [
    {
     "name": "stdout",
     "output_type": "stream",
     "text": [
      "A soma de 10 + 5 é 15\n",
      "A soma de 1234 + 4321 é 5555\n"
     ]
    }
   ],
   "source": [
    "def Soma(n1, n2) :\n",
    "    res = n1 + n2\n",
    "    print(f'A soma de {n1} + {n2} é {res}')\n",
    "\n",
    "Soma(10, 5)\n",
    "Soma(1234,4321)"
   ]
  },
  {
   "cell_type": "code",
   "execution_count": 14,
   "metadata": {},
   "outputs": [
    {
     "name": "stdout",
     "output_type": "stream",
     "text": [
      "é impar😝\n"
     ]
    }
   ],
   "source": [
    "def ParImpar(n1):\n",
    "    if n1 % 2 == 0:\n",
    "        print('é par')\n",
    "    else :\n",
    "        print('é impar😝')\n",
    "ParImpar(int(input('Digite seu nmr')))\n"
   ]
  },
  {
   "cell_type": "code",
   "execution_count": 15,
   "metadata": {},
   "outputs": [
    {
     "name": "stdout",
     "output_type": "stream",
     "text": [
      "9.0\n",
      "6.0\n"
     ]
    }
   ],
   "source": [
    "def Media(n1, n2):\n",
    "    res = (n1 + n2) / 2\n",
    "    return(res)\n",
    "\n",
    "resultado_media = Media(10, 8)\n",
    "print(resultado_media)\n",
    "print(Media(10, 2))\n"
   ]
  },
  {
   "cell_type": "code",
   "execution_count": 18,
   "metadata": {},
   "outputs": [
    {
     "name": "stdout",
     "output_type": "stream",
     "text": [
      "<function FormatarData at 0x00000212132D5A80>\n"
     ]
    }
   ],
   "source": [
    "def FormatarData(dia, mes, ano):\n",
    "    return = FormatarData\n",
    "    FormatarData(16, 5, 2008)\n",
    "    FormatarData(19, 5, 2008)\n",
    "    resp = \n",
    "\n",
    "\n"
   ]
  },
  {
   "cell_type": "markdown",
   "metadata": {},
   "source": [
    "12/04/2024 - Escopo de variaveis (Variavel local e global)"
   ]
  },
  {
   "cell_type": "code",
   "execution_count": 3,
   "metadata": {},
   "outputs": [
    {
     "name": "stdout",
     "output_type": "stream",
     "text": [
      "Valor ANTES da função SENAI\n",
      "Valor DENTRO da função SESI\n",
      "Valor DEPOIS da função SENAI\n"
     ]
    }
   ],
   "source": [
    "def NomeEscola():\n",
    "    escola ='SESI'\n",
    "    print(f'Valor DENTRO da função {escola}')\n",
    "\n",
    "escola= 'SENAI'\n",
    "print(f'Valor ANTES da função {escola}')\n",
    "NomeEscola()\n",
    "print(f'Valor DEPOIS da função {escola}')"
   ]
  },
  {
   "cell_type": "code",
   "execution_count": 6,
   "metadata": {},
   "outputs": [
    {
     "name": "stdout",
     "output_type": "stream",
     "text": [
      "fora da função 10\n",
      "Dentro da função 1\n",
      "Fora da função\n"
     ]
    }
   ],
   "source": [
    "x = 10 # x é uma variavel global\n",
    "# Podemos acessar x fora de uma função também\n",
    "print('fora da função', x)\n",
    "\n",
    "def minhaFunção() :\n",
    "    x = 0 #<- Variavel Local\n",
    "    x = x + 1\n",
    "    print('Dentro da função', x)\n",
    "\n",
    "minhaFunção()\n",
    "print('Fora da função')"
   ]
  }
 ],
 "metadata": {
  "kernelspec": {
   "display_name": "Python 3",
   "language": "python",
   "name": "python3"
  },
  "language_info": {
   "codemirror_mode": {
    "name": "ipython",
    "version": 3
   },
   "file_extension": ".py",
   "mimetype": "text/x-python",
   "name": "python",
   "nbconvert_exporter": "python",
   "pygments_lexer": "ipython3",
   "version": "3.12.3"
  }
 },
 "nbformat": 4,
 "nbformat_minor": 2
}
